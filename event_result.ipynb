{
  "nbformat": 4,
  "nbformat_minor": 0,
  "metadata": {
    "colab": {
      "name": "event_result.ipynb",
      "provenance": [],
      "collapsed_sections": [],
      "mount_file_id": "1bz5xnJ4vBElyOZExxfHzGevz2I-2mOT6",
      "authorship_tag": "ABX9TyO0aPYC2JB+95zMtvwAYTgs",
      "include_colab_link": true
    },
    "kernelspec": {
      "name": "python3",
      "display_name": "Python 3"
    }
  },
  "cells": [
    {
      "cell_type": "markdown",
      "metadata": {
        "id": "view-in-github",
        "colab_type": "text"
      },
      "source": [
        "<a href=\"https://colab.research.google.com/github/girisharoskar/springboard/blob/master/event_result.ipynb\" target=\"_parent\"><img src=\"https://colab.research.google.com/assets/colab-badge.svg\" alt=\"Open In Colab\"/></a>"
      ]
    },
    {
      "cell_type": "code",
      "metadata": {
        "id": "tfMH1pJQBGJT",
        "colab_type": "code",
        "colab": {
          "base_uri": "https://localhost:8080/",
          "height": 748
        },
        "outputId": "bacbe07c-b76a-446e-b52c-96b70dc4a305"
      },
      "source": [
        "import pandas as pd\t\n",
        "import requests as re\n",
        "from google.colab import files\n",
        "from bs4 import BeautifulSoup as bs\n",
        "import json \n",
        "import pandas as pd\n",
        "import os\n",
        "opath=\"/content/drive/My Drive/springboard\"\n",
        "os.chdir(opath)\n",
        "lst=[]\n",
        "cols=[\"event_name\",\"link\",\"maxbib\"]\n",
        "df= pd.read_csv(\"event_result.csv\",header=None)\n",
        "img_list=[]\n",
        "columns=['event_name','bib','name', 'sex','ag','gun time','net time','agrank','grank','pacemkm','pacekmh']\n",
        "\n",
        "for idx,a in df.iterrows():\n",
        "    path=a[0]\n",
        "    year=a[1]\n",
        "    url=a[2]\n",
        "    mbib=a[3]\n",
        "    \n",
        "    for n in range(0,mbib):\n",
        "        nbib=\"Bib/\"+str(n)\n",
        "        url1=url.replace(\"Bib/{n}\", nbib)\n",
        "        #print(url)\n",
        "        response=re.get(url1)\n",
        "\n",
        "        if n % 5000 == 0:\n",
        "          if n == 0:\n",
        "\t\t\t        print()\n",
        "\t\t\t        print(\"Starting result extraction for - \",path)\n",
        "          else:\n",
        "\t\t\t        print(path+ \"- , Completed \"+str(n)+\" /\"+str(mbib))\n",
        "\n",
        "        if (response.status_code) == 200:\n",
        "            #print(\"ok to proceed\")\n",
        "            soup=bs(response.content,'html.parser')\n",
        "            soup_js=json.loads(soup.text)\n",
        "            id=soup_js[0]['id']\n",
        "            name=soup_js[0]['Name'] \n",
        "            sex=soup_js[0]['Sex']\n",
        "            bib=soup_js[0]['Bib']\n",
        "            time_n=soup_js[0]['Net_Time']\n",
        "            time_g=soup_js[0]['Gun_Time']\n",
        "            ag=soup_js[0]['AG']\n",
        "            agrank=soup_js[0]['AG_Rank']\n",
        "            grank=soup_js[0]['Gender_Rank']\n",
        "            pacemkm=soup_js[0]['Pace_minkm']\n",
        "            pacekmh=soup_js[0]['Speed_kmh']\n",
        "            dd=[bib,name,sex,ag,time_g,time_n,agrank,grank,pacemkm,pacekmh]\n",
        "            #print(dd)\n",
        "            lst.append([path,bib,name,sex,ag,time_g,time_n,agrank,grank,pacemkm,pacekmh])\n",
        "        \n",
        "        if n == mbib-1:\n",
        "            df=pd.DataFrame(lst)\n",
        "            l=len(df[df[0] == path])\n",
        "            print(\"Finished result extraction for - \",path)\n",
        "            print()\n",
        "            print(path+\", Total records - \"+str(l))\n",
        "            \t\t\n",
        "df = pd.DataFrame(lst,columns=columns)\n",
        "\n",
        "print()\n",
        "print(\"Result extraction files :\")\n",
        "print()\n",
        "lst1=(df.event_name.unique())\n",
        "for i in lst1:\n",
        "    length=(len(df['event_name'] == i))\n",
        "    file_name=i+\".csv\"\n",
        "    df.loc[df['event_name'] == i].to_csv(file_name)\n",
        "    print(i+\" - \"+file_name+\" No of records -\"+ str(length))\n",
        "print()\n",
        "\n",
        "\n",
        "print()\n",
        "print(\"Downloading result extraction files to local storage:\")\n",
        "print()\n",
        "lst1=(df.event_name.unique())\n",
        "for i in lst1:\n",
        "\tfile_name=i+\".csv\"\n",
        "\tfiles.download(file_name) \n",
        "print()"
      ],
      "execution_count": null,
      "outputs": [
        {
          "output_type": "stream",
          "text": [
            "\n",
            "Starting result extraction for -  BNP Endurathon 2019\n",
            "BNP Endurathon 2019- , Completed 5000 /10000\n",
            "Finished result extraction for -  BNP Endurathon 2019\n",
            "\n",
            "BNP Endurathon 2019, Total records - 1092\n",
            "\n",
            "Starting result extraction for -  BNP Endurathon 2018\n",
            "BNP Endurathon 2018- , Completed 5000 /10000\n",
            "Finished result extraction for -  BNP Endurathon 2018\n",
            "\n",
            "BNP Endurathon 2018, Total records - 1026\n",
            "\n",
            "Starting result extraction for -  Navy marathon 2017\n",
            "Navy marathon 2017- , Completed 5000 /35000\n",
            "Navy marathon 2017- , Completed 10000 /35000\n",
            "Navy marathon 2017- , Completed 15000 /35000\n",
            "Navy marathon 2017- , Completed 20000 /35000\n",
            "Navy marathon 2017- , Completed 25000 /35000\n",
            "Navy marathon 2017- , Completed 30000 /35000\n",
            "Finished result extraction for -  Navy marathon 2017\n",
            "\n",
            "Navy marathon 2017, Total records - 8372\n",
            "\n",
            "Starting result extraction for -  Hubballi-10K-run-2016\n",
            "Hubballi-10K-run-2016- , Completed 5000 /20000\n",
            "Hubballi-10K-run-2016- , Completed 10000 /20000\n",
            "Hubballi-10K-run-2016- , Completed 15000 /20000\n",
            "Finished result extraction for -  Hubballi-10K-run-2016\n",
            "\n",
            "Hubballi-10K-run-2016, Total records - 1277\n",
            "\n",
            "Result extraction files :\n",
            "\n",
            "BNP Endurathon 2019 - BNP Endurathon 2019.csv No of records -11767\n",
            "BNP Endurathon 2018 - BNP Endurathon 2018.csv No of records -11767\n",
            "Navy marathon 2017 - Navy marathon 2017.csv No of records -11767\n",
            "Hubballi-10K-run-2016 - Hubballi-10K-run-2016.csv No of records -11767\n",
            "\n",
            "\n",
            "Downloading result extraction files to local storage:\n",
            "\n"
          ],
          "name": "stdout"
        },
        {
          "output_type": "display_data",
          "data": {
            "application/javascript": [
              "\n",
              "    async function download(id, filename, size) {\n",
              "      if (!google.colab.kernel.accessAllowed) {\n",
              "        return;\n",
              "      }\n",
              "      const div = document.createElement('div');\n",
              "      const label = document.createElement('label');\n",
              "      label.textContent = `Downloading \"${filename}\": `;\n",
              "      div.appendChild(label);\n",
              "      const progress = document.createElement('progress');\n",
              "      progress.max = size;\n",
              "      div.appendChild(progress);\n",
              "      document.body.appendChild(div);\n",
              "\n",
              "      const buffers = [];\n",
              "      let downloaded = 0;\n",
              "\n",
              "      const channel = await google.colab.kernel.comms.open(id);\n",
              "      // Send a message to notify the kernel that we're ready.\n",
              "      channel.send({})\n",
              "\n",
              "      for await (const message of channel.messages) {\n",
              "        // Send a message to notify the kernel that we're ready.\n",
              "        channel.send({})\n",
              "        if (message.buffers) {\n",
              "          for (const buffer of message.buffers) {\n",
              "            buffers.push(buffer);\n",
              "            downloaded += buffer.byteLength;\n",
              "            progress.value = downloaded;\n",
              "          }\n",
              "        }\n",
              "      }\n",
              "      const blob = new Blob(buffers, {type: 'application/binary'});\n",
              "      const a = document.createElement('a');\n",
              "      a.href = window.URL.createObjectURL(blob);\n",
              "      a.download = filename;\n",
              "      div.appendChild(a);\n",
              "      a.click();\n",
              "      div.remove();\n",
              "    }\n",
              "  "
            ],
            "text/plain": [
              "<IPython.core.display.Javascript object>"
            ]
          },
          "metadata": {
            "tags": []
          }
        },
        {
          "output_type": "display_data",
          "data": {
            "application/javascript": [
              "download(\"download_60fa2118-7191-4741-a697-032da1911c94\", \"BNP Endurathon 2019.csv\", 120733)"
            ],
            "text/plain": [
              "<IPython.core.display.Javascript object>"
            ]
          },
          "metadata": {
            "tags": []
          }
        },
        {
          "output_type": "display_data",
          "data": {
            "application/javascript": [
              "\n",
              "    async function download(id, filename, size) {\n",
              "      if (!google.colab.kernel.accessAllowed) {\n",
              "        return;\n",
              "      }\n",
              "      const div = document.createElement('div');\n",
              "      const label = document.createElement('label');\n",
              "      label.textContent = `Downloading \"${filename}\": `;\n",
              "      div.appendChild(label);\n",
              "      const progress = document.createElement('progress');\n",
              "      progress.max = size;\n",
              "      div.appendChild(progress);\n",
              "      document.body.appendChild(div);\n",
              "\n",
              "      const buffers = [];\n",
              "      let downloaded = 0;\n",
              "\n",
              "      const channel = await google.colab.kernel.comms.open(id);\n",
              "      // Send a message to notify the kernel that we're ready.\n",
              "      channel.send({})\n",
              "\n",
              "      for await (const message of channel.messages) {\n",
              "        // Send a message to notify the kernel that we're ready.\n",
              "        channel.send({})\n",
              "        if (message.buffers) {\n",
              "          for (const buffer of message.buffers) {\n",
              "            buffers.push(buffer);\n",
              "            downloaded += buffer.byteLength;\n",
              "            progress.value = downloaded;\n",
              "          }\n",
              "        }\n",
              "      }\n",
              "      const blob = new Blob(buffers, {type: 'application/binary'});\n",
              "      const a = document.createElement('a');\n",
              "      a.href = window.URL.createObjectURL(blob);\n",
              "      a.download = filename;\n",
              "      div.appendChild(a);\n",
              "      a.click();\n",
              "      div.remove();\n",
              "    }\n",
              "  "
            ],
            "text/plain": [
              "<IPython.core.display.Javascript object>"
            ]
          },
          "metadata": {
            "tags": []
          }
        },
        {
          "output_type": "display_data",
          "data": {
            "application/javascript": [
              "download(\"download_ab6d67bc-89da-45df-9cbc-cb17b83d883a\", \"BNP Endurathon 2018.csv\", 117689)"
            ],
            "text/plain": [
              "<IPython.core.display.Javascript object>"
            ]
          },
          "metadata": {
            "tags": []
          }
        },
        {
          "output_type": "display_data",
          "data": {
            "application/javascript": [
              "\n",
              "    async function download(id, filename, size) {\n",
              "      if (!google.colab.kernel.accessAllowed) {\n",
              "        return;\n",
              "      }\n",
              "      const div = document.createElement('div');\n",
              "      const label = document.createElement('label');\n",
              "      label.textContent = `Downloading \"${filename}\": `;\n",
              "      div.appendChild(label);\n",
              "      const progress = document.createElement('progress');\n",
              "      progress.max = size;\n",
              "      div.appendChild(progress);\n",
              "      document.body.appendChild(div);\n",
              "\n",
              "      const buffers = [];\n",
              "      let downloaded = 0;\n",
              "\n",
              "      const channel = await google.colab.kernel.comms.open(id);\n",
              "      // Send a message to notify the kernel that we're ready.\n",
              "      channel.send({})\n",
              "\n",
              "      for await (const message of channel.messages) {\n",
              "        // Send a message to notify the kernel that we're ready.\n",
              "        channel.send({})\n",
              "        if (message.buffers) {\n",
              "          for (const buffer of message.buffers) {\n",
              "            buffers.push(buffer);\n",
              "            downloaded += buffer.byteLength;\n",
              "            progress.value = downloaded;\n",
              "          }\n",
              "        }\n",
              "      }\n",
              "      const blob = new Blob(buffers, {type: 'application/binary'});\n",
              "      const a = document.createElement('a');\n",
              "      a.href = window.URL.createObjectURL(blob);\n",
              "      a.download = filename;\n",
              "      div.appendChild(a);\n",
              "      a.click();\n",
              "      div.remove();\n",
              "    }\n",
              "  "
            ],
            "text/plain": [
              "<IPython.core.display.Javascript object>"
            ]
          },
          "metadata": {
            "tags": []
          }
        },
        {
          "output_type": "display_data",
          "data": {
            "application/javascript": [
              "download(\"download_c47ad799-5a3f-44d1-85e9-370ac5bd36ec\", \"Navy marathon 2017.csv\", 872299)"
            ],
            "text/plain": [
              "<IPython.core.display.Javascript object>"
            ]
          },
          "metadata": {
            "tags": []
          }
        },
        {
          "output_type": "display_data",
          "data": {
            "application/javascript": [
              "\n",
              "    async function download(id, filename, size) {\n",
              "      if (!google.colab.kernel.accessAllowed) {\n",
              "        return;\n",
              "      }\n",
              "      const div = document.createElement('div');\n",
              "      const label = document.createElement('label');\n",
              "      label.textContent = `Downloading \"${filename}\": `;\n",
              "      div.appendChild(label);\n",
              "      const progress = document.createElement('progress');\n",
              "      progress.max = size;\n",
              "      div.appendChild(progress);\n",
              "      document.body.appendChild(div);\n",
              "\n",
              "      const buffers = [];\n",
              "      let downloaded = 0;\n",
              "\n",
              "      const channel = await google.colab.kernel.comms.open(id);\n",
              "      // Send a message to notify the kernel that we're ready.\n",
              "      channel.send({})\n",
              "\n",
              "      for await (const message of channel.messages) {\n",
              "        // Send a message to notify the kernel that we're ready.\n",
              "        channel.send({})\n",
              "        if (message.buffers) {\n",
              "          for (const buffer of message.buffers) {\n",
              "            buffers.push(buffer);\n",
              "            downloaded += buffer.byteLength;\n",
              "            progress.value = downloaded;\n",
              "          }\n",
              "        }\n",
              "      }\n",
              "      const blob = new Blob(buffers, {type: 'application/binary'});\n",
              "      const a = document.createElement('a');\n",
              "      a.href = window.URL.createObjectURL(blob);\n",
              "      a.download = filename;\n",
              "      div.appendChild(a);\n",
              "      a.click();\n",
              "      div.remove();\n",
              "    }\n",
              "  "
            ],
            "text/plain": [
              "<IPython.core.display.Javascript object>"
            ]
          },
          "metadata": {
            "tags": []
          }
        },
        {
          "output_type": "display_data",
          "data": {
            "application/javascript": [
              "download(\"download_b7528dd1-5fe8-4075-a32b-554e1f6efa85\", \"Hubballi-10K-run-2016.csv\", 134669)"
            ],
            "text/plain": [
              "<IPython.core.display.Javascript object>"
            ]
          },
          "metadata": {
            "tags": []
          }
        },
        {
          "output_type": "stream",
          "text": [
            "\n"
          ],
          "name": "stdout"
        }
      ]
    }
  ]
}