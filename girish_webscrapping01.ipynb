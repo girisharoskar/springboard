{
 "cells": [
  {
   "cell_type": "code",
   "execution_count": 28,
   "metadata": {},
   "outputs": [],
   "source": [
    "import feedparser"
   ]
  },
  {
   "cell_type": "code",
   "execution_count": 29,
   "metadata": {},
   "outputs": [],
   "source": [
    "import pandas as pd"
   ]
  },
  {
   "cell_type": "code",
   "execution_count": 30,
   "metadata": {},
   "outputs": [],
   "source": [
    "rss_url=\"https://dvd.netflix.com/Top100RSS\""
   ]
  },
  {
   "cell_type": "code",
   "execution_count": 31,
   "metadata": {},
   "outputs": [],
   "source": [
    "feed=feedparser.parse(rss_url)"
   ]
  },
  {
   "cell_type": "code",
   "execution_count": 32,
   "metadata": {},
   "outputs": [
    {
     "data": {
      "text/plain": [
       "feedparser.FeedParserDict"
      ]
     },
     "execution_count": 32,
     "metadata": {},
     "output_type": "execute_result"
    }
   ],
   "source": [
    "type(feed) "
   ]
  },
  {
   "cell_type": "code",
   "execution_count": 33,
   "metadata": {},
   "outputs": [
    {
     "data": {
      "text/plain": [
       "dict_keys(['feed', 'entries', 'bozo', 'headers', 'href', 'status', 'encoding', 'bozo_exception', 'version', 'namespaces'])"
      ]
     },
     "execution_count": 33,
     "metadata": {},
     "output_type": "execute_result"
    }
   ],
   "source": [
    "feed.keys()"
   ]
  },
  {
   "cell_type": "code",
   "execution_count": 34,
   "metadata": {},
   "outputs": [
    {
     "data": {
      "text/plain": [
       "int"
      ]
     },
     "execution_count": 34,
     "metadata": {},
     "output_type": "execute_result"
    }
   ],
   "source": [
    "type(feed.status)"
   ]
  },
  {
   "cell_type": "code",
   "execution_count": 35,
   "metadata": {},
   "outputs": [
    {
     "data": {
      "text/plain": [
       "''"
      ]
     },
     "execution_count": 35,
     "metadata": {},
     "output_type": "execute_result"
    }
   ],
   "source": [
    "feed.version "
   ]
  },
  {
   "cell_type": "code",
   "execution_count": 36,
   "metadata": {},
   "outputs": [
    {
     "name": "stdout",
     "output_type": "stream",
     "text": [
      "potential trouble\n"
     ]
    }
   ],
   "source": [
    "if feed.bozo == 0:\n",
    "    print(\"well formated feed\")\n",
    "else:\n",
    "    print(\"potential trouble\")"
   ]
  },
  {
   "cell_type": "code",
   "execution_count": 37,
   "metadata": {},
   "outputs": [
    {
     "data": {
      "text/plain": [
       "dict_keys(['meta', 'base', 'script', 'links'])"
      ]
     },
     "execution_count": 37,
     "metadata": {},
     "output_type": "execute_result"
    }
   ],
   "source": [
    "feed.feed.keys()"
   ]
  },
  {
   "cell_type": "code",
   "execution_count": 38,
   "metadata": {},
   "outputs": [
    {
     "name": "stdout",
     "output_type": "stream",
     "text": [
      "{'name': 'description', 'content': 'Rent Movies and TV Shows on DVD and Blu-ray. 1-month free trial! Fast, free delivery. No late fees.'}\n",
      "{'href': '/'}\n",
      "{'src': 'https://assets.nflxext.com/us/dvd/js/jquery-3.4.1.min.js'}\n",
      "[{'href': 'https://dvd.netflix.com/404', 'rel': 'canonical', 'type': 'text/html'}, {'rel': 'shortcut icon', 'type': 'image/x-icon', 'href': 'https://assets.nflxext.com/us/dvd/dexter/favicons/favicon.ico'}, {'rel': 'apple-touch-icon', 'href': 'https://assets.nflxext.com/us/dvd/dexter/favicons/180.png', 'type': 'text/html'}, {'rel': 'apple-touch-icon', 'href': 'https://assets.nflxext.com/us/dvd/dexter/favicons/120.png', 'sizes': '120x120', 'type': 'text/html'}, {'rel': 'apple-touch-icon', 'href': 'https://assets.nflxext.com/us/dvd/dexter/favicons/152.png', 'sizes': '152x152', 'type': 'text/html'}, {'rel': 'apple-touch-icon', 'href': 'https://assets.nflxext.com/us/dvd/dexter/favicons/167.png', 'sizes': '167x167', 'type': 'text/html'}, {'rel': 'apple-touch-icon', 'href': 'https://assets.nflxext.com/us/dvd/dexter/favicons/180.png', 'sizes': '180x180', 'type': 'text/html'}, {'href': 'https://assets.nflxext.com/us/dvd/dexter/css/fonts-gotham.css', 'type': 'text/css', 'rel': 'stylesheet'}, {'href': 'https://assets.nflxext.com/us/dvd/dexter/css/fonts-proxima.css', 'type': 'text/css', 'rel': 'stylesheet'}, {'href': 'https://assets.nflxext.com/us/dvd/dexter/css/bootstrap.css', 'type': 'text/css', 'rel': 'stylesheet'}, {'href': 'https://assets.nflxext.com/us/dvd/dexter/css/bootstrap-grid.css', 'type': 'text/css', 'rel': 'stylesheet'}, {'href': 'https://dvd.netflix.com/css/global.css', 'type': 'text/css', 'rel': 'stylesheet'}, {'href': 'https://dvd.netflix.com/css/header.css', 'type': 'text/css', 'rel': 'stylesheet'}, {'href': 'https://dvd.netflix.com/css/footer.css', 'type': 'text/css', 'rel': 'stylesheet'}, {'href': 'https://dvd.netflix.com/combined.css?id=22aa998516e3c7d_1', 'type': 'text/css', 'rel': 'stylesheet'}]\n"
     ]
    }
   ],
   "source": [
    "print(feed.feed.meta)\n",
    "print(feed.feed.base)\n",
    "print(feed.feed.script)\n",
    "print(feed.feed.links)"
   ]
  },
  {
   "cell_type": "code",
   "execution_count": null,
   "metadata": {},
   "outputs": [],
   "source": []
  }
 ],
 "metadata": {
  "kernelspec": {
   "display_name": "Python 3",
   "language": "python",
   "name": "python3"
  },
  "language_info": {
   "codemirror_mode": {
    "name": "ipython",
    "version": 3
   },
   "file_extension": ".py",
   "mimetype": "text/x-python",
   "name": "python",
   "nbconvert_exporter": "python",
   "pygments_lexer": "ipython3",
   "version": "3.6.4"
  }
 },
 "nbformat": 4,
 "nbformat_minor": 2
}
